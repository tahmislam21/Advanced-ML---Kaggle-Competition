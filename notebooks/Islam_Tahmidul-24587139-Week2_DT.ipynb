{
 "cells": [
  {
   "cell_type": "code",
   "execution_count": 1,
   "id": "90ff7e4e-6369-4b15-a43e-49884f710e7a",
   "metadata": {
    "tags": []
   },
   "outputs": [],
   "source": [
    "import pandas as pd\n",
    "import numpy as np"
   ]
  },
  {
   "cell_type": "code",
   "execution_count": 7,
   "id": "4a9195cf-bdeb-4366-86d5-f5d5bac84e90",
   "metadata": {
    "tags": []
   },
   "outputs": [],
   "source": [
    "df_train_cleaned = pd.read_csv('../data/processed/df_train_cleaned.csv')\n",
    "df_test_cleaned = pd.read_csv('../data/processed/df_test_cleaned.csv')"
   ]
  },
  {
   "cell_type": "code",
   "execution_count": null,
   "id": "127169f0-908b-4a42-bd52-34b590969f03",
   "metadata": {},
   "outputs": [],
   "source": []
  }
 ],
 "metadata": {
  "kernelspec": {
   "display_name": "Python 3 (ipykernel)",
   "language": "python",
   "name": "python3"
  },
  "language_info": {
   "codemirror_mode": {
    "name": "ipython",
    "version": 3
   },
   "file_extension": ".py",
   "mimetype": "text/x-python",
   "name": "python",
   "nbconvert_exporter": "python",
   "pygments_lexer": "ipython3",
   "version": "3.9.13"
  }
 },
 "nbformat": 4,
 "nbformat_minor": 5
}
