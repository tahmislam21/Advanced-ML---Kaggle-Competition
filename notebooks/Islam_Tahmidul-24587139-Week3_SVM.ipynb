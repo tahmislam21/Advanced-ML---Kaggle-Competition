{
 "cells": [
  {
   "cell_type": "markdown",
   "id": "11d726e9-0c35-4b6a-9d2b-d380877fce8c",
   "metadata": {
    "tags": []
   },
   "source": [
    "# 1. Import necessary Libraries"
   ]
  },
  {
   "cell_type": "code",
   "execution_count": 148,
   "id": "0aef307f-e034-446d-b8b6-b21d5cdaf8a2",
   "metadata": {
    "tags": []
   },
   "outputs": [
    {
     "name": "stdout",
     "output_type": "stream",
     "text": [
      "The autoreload extension is already loaded. To reload it, use:\n",
      "  %reload_ext autoreload\n"
     ]
    }
   ],
   "source": [
    "%load_ext autoreload\n",
    "%autoreload 2"
   ]
  },
  {
   "cell_type": "code",
   "execution_count": 149,
   "id": "3f5526d2-9e49-4a64-b5d4-2654e4c611c3",
   "metadata": {
    "tags": []
   },
   "outputs": [
    {
     "name": "stdout",
     "output_type": "stream",
     "text": [
      "Looking in indexes: https://test.pypi.org/simple/\n",
      "Requirement already satisfied: my-krml-24587139 in c:\\users\\asus\\appdata\\local\\pypoetry\\cache\\virtualenvs\\mla-at1-zqofbsrg-py3.9\\lib\\site-packages (0.1.1)\n",
      "Requirement already satisfied: pandas==2.0.1 in c:\\users\\asus\\appdata\\local\\pypoetry\\cache\\virtualenvs\\mla-at1-zqofbsrg-py3.9\\lib\\site-packages (from my-krml-24587139) (2.0.1)\n",
      "Requirement already satisfied: scikit-learn==1.2.2 in c:\\users\\asus\\appdata\\local\\pypoetry\\cache\\virtualenvs\\mla-at1-zqofbsrg-py3.9\\lib\\site-packages (from my-krml-24587139) (1.2.2)\n",
      "Requirement already satisfied: tzdata>=2022.1 in c:\\users\\asus\\appdata\\local\\pypoetry\\cache\\virtualenvs\\mla-at1-zqofbsrg-py3.9\\lib\\site-packages (from pandas==2.0.1->my-krml-24587139) (2023.3)\n",
      "Requirement already satisfied: python-dateutil>=2.8.2 in c:\\users\\asus\\appdata\\local\\pypoetry\\cache\\virtualenvs\\mla-at1-zqofbsrg-py3.9\\lib\\site-packages (from pandas==2.0.1->my-krml-24587139) (2.8.2)\n",
      "Requirement already satisfied: numpy>=1.20.3 in c:\\users\\asus\\appdata\\local\\pypoetry\\cache\\virtualenvs\\mla-at1-zqofbsrg-py3.9\\lib\\site-packages (from pandas==2.0.1->my-krml-24587139) (1.25.2)\n",
      "Requirement already satisfied: pytz>=2020.1 in c:\\users\\asus\\appdata\\local\\pypoetry\\cache\\virtualenvs\\mla-at1-zqofbsrg-py3.9\\lib\\site-packages (from pandas==2.0.1->my-krml-24587139) (2023.3.post1)\n",
      "Requirement already satisfied: threadpoolctl>=2.0.0 in c:\\users\\asus\\appdata\\local\\pypoetry\\cache\\virtualenvs\\mla-at1-zqofbsrg-py3.9\\lib\\site-packages (from scikit-learn==1.2.2->my-krml-24587139) (3.2.0)\n",
      "Requirement already satisfied: joblib>=1.1.1 in c:\\users\\asus\\appdata\\local\\pypoetry\\cache\\virtualenvs\\mla-at1-zqofbsrg-py3.9\\lib\\site-packages (from scikit-learn==1.2.2->my-krml-24587139) (1.3.2)\n",
      "Requirement already satisfied: scipy>=1.3.2 in c:\\users\\asus\\appdata\\local\\pypoetry\\cache\\virtualenvs\\mla-at1-zqofbsrg-py3.9\\lib\\site-packages (from scikit-learn==1.2.2->my-krml-24587139) (1.9.3)\n",
      "Requirement already satisfied: six>=1.5 in c:\\users\\asus\\appdata\\local\\pypoetry\\cache\\virtualenvs\\mla-at1-zqofbsrg-py3.9\\lib\\site-packages (from python-dateutil>=2.8.2->pandas==2.0.1->my-krml-24587139) (1.16.0)\n"
     ]
    }
   ],
   "source": [
    "! pip install -i https://test.pypi.org/simple/ my-krml-24587139"
   ]
  },
  {
   "cell_type": "code",
   "execution_count": 150,
   "id": "90ff7e4e-6369-4b15-a43e-49884f710e7a",
   "metadata": {
    "tags": []
   },
   "outputs": [],
   "source": [
    "import pandas as pd\n",
    "import numpy as np"
   ]
  },
  {
   "cell_type": "markdown",
   "id": "d991e1c5-d672-470b-a32e-2efa987f3e38",
   "metadata": {},
   "source": [
    "# 2. Load Dataset"
   ]
  },
  {
   "cell_type": "code",
   "execution_count": 151,
   "id": "03d7c28d-9543-4d27-a20f-225e22bd8b89",
   "metadata": {
    "tags": []
   },
   "outputs": [],
   "source": [
    "X_train = pd.read_csv('../data/processed/X_train.csv').to_numpy()\n",
    "X_val = pd.read_csv('../data/processed/X_val.csv').to_numpy()\n",
    "X_test = pd.read_csv('../data/processed/X_test.csv').to_numpy()\n",
    "y_train = pd.read_csv('../data/processed/y_train.csv')\n",
    "y_val = pd.read_csv('../data/processed/y_val.csv')"
   ]
  },
  {
   "cell_type": "code",
   "execution_count": 152,
   "id": "0b70c5c3-d180-45cd-b277-0f3876c7785d",
   "metadata": {
    "tags": []
   },
   "outputs": [],
   "source": [
    "y_train = y_train.squeeze()\n",
    "y_val = y_val.squeeze()"
   ]
  },
  {
   "cell_type": "markdown",
   "id": "f737ed25-f523-44ea-a7cb-6b1f736607dd",
   "metadata": {
    "tags": []
   },
   "source": [
    "# 3. Train SVM with Tuning Hyper Parameters"
   ]
  },
  {
   "cell_type": "markdown",
   "id": "e6bdf849-5195-45c8-93bc-7df5b462932b",
   "metadata": {},
   "source": [
    "#### 3.1. With C Regularisation Paramter = 0.5"
   ]
  },
  {
   "cell_type": "code",
   "execution_count": 153,
   "id": "84c5b665-ab5e-49ed-a8f0-745d9d504809",
   "metadata": {
    "tags": []
   },
   "outputs": [],
   "source": [
    "from sklearn.svm import SVC"
   ]
  },
  {
   "cell_type": "code",
   "execution_count": 154,
   "id": "0ac66d90-eb1e-434a-85a2-0801d2308f5b",
   "metadata": {
    "tags": []
   },
   "outputs": [],
   "source": [
    "svc = SVC(probability = True, class_weight='balanced', C=0.5)"
   ]
  },
  {
   "cell_type": "code",
   "execution_count": 155,
   "id": "6d75e1a6-f104-4896-9b00-89ca52ce589b",
   "metadata": {
    "tags": []
   },
   "outputs": [],
   "source": [
    "clf = svc.fit(X_train, y_train)"
   ]
  },
  {
   "cell_type": "code",
   "execution_count": 156,
   "id": "1ffc5b5d-e3dc-4ab4-bd79-597b637700fb",
   "metadata": {
    "tags": []
   },
   "outputs": [],
   "source": [
    "from my_krml_24587139.data.sets import save_sets"
   ]
  },
  {
   "cell_type": "code",
   "execution_count": 157,
   "id": "0cedff9a-13d0-451e-8bdf-295814c09852",
   "metadata": {
    "tags": []
   },
   "outputs": [],
   "source": [
    "save_sets(X_train, y_train, X_val, y_val, X_test, path='../data/processed/')"
   ]
  },
  {
   "cell_type": "code",
   "execution_count": 158,
   "id": "0c8291a2-cc4f-4f95-a6ac-ecdf19b88a71",
   "metadata": {
    "tags": []
   },
   "outputs": [],
   "source": [
    "y_train_preds = svc.predict(X_train)\n",
    "y_val_preds = svc.predict(X_val)"
   ]
  },
  {
   "cell_type": "code",
   "execution_count": 159,
   "id": "0a9fa411-c179-47bb-80bd-3765734083fc",
   "metadata": {
    "tags": []
   },
   "outputs": [],
   "source": [
    "from my_krml_24587139.models.performance import print_regressor_scores_at1"
   ]
  },
  {
   "cell_type": "code",
   "execution_count": 160,
   "id": "fc62b045-fa16-48c0-a16b-613ae3970b5b",
   "metadata": {
    "tags": []
   },
   "outputs": [
    {
     "name": "stdout",
     "output_type": "stream",
     "text": [
      "roc_auc_score for Training data: 0.993796811209174\n"
     ]
    }
   ],
   "source": [
    "print_regressor_scores_at1(X = X_train, y_actuals=y_train, model = svc, set_name='Training')"
   ]
  },
  {
   "cell_type": "code",
   "execution_count": 161,
   "id": "b4aa0c63-b069-460e-81ea-eb7b10dd2089",
   "metadata": {
    "tags": []
   },
   "outputs": [
    {
     "name": "stdout",
     "output_type": "stream",
     "text": [
      "roc_auc_score for Validation data: 0.9898442409552024\n"
     ]
    }
   ],
   "source": [
    "print_regressor_scores_at1(X = X_val, y_actuals=y_val, model = svc, set_name='Validation')"
   ]
  },
  {
   "cell_type": "code",
   "execution_count": 162,
   "id": "2bf096f3-1e5f-481e-9799-fe0cfe450682",
   "metadata": {
    "tags": []
   },
   "outputs": [],
   "source": [
    "from my_krml_24587139.models.performance import predict_probability"
   ]
  },
  {
   "cell_type": "code",
   "execution_count": 163,
   "id": "628479d0-9a5e-4067-baaa-46afb969b049",
   "metadata": {
    "tags": []
   },
   "outputs": [],
   "source": [
    "y_score_test = predict_probability(X_test, clf)"
   ]
  },
  {
   "cell_type": "code",
   "execution_count": 164,
   "id": "ab32dfa4-7c7d-4943-905d-0f3ee9bf330a",
   "metadata": {
    "tags": []
   },
   "outputs": [
    {
     "data": {
      "text/plain": [
       "array([0.00574162, 0.00574162, 0.00574162, ..., 0.00574162, 0.00574162,\n",
       "       0.00574162])"
      ]
     },
     "execution_count": 164,
     "metadata": {},
     "output_type": "execute_result"
    }
   ],
   "source": [
    "y_score_test"
   ]
  },
  {
   "cell_type": "code",
   "execution_count": 165,
   "id": "a307ca6b-6484-4da7-90e1-defc564a8eeb",
   "metadata": {
    "tags": []
   },
   "outputs": [],
   "source": [
    "player_id = pd.read_csv(\"../data/processed/player_id.csv\")\n",
    "player_id = player_id.drop(player_id.columns[0], axis=1)"
   ]
  },
  {
   "cell_type": "code",
   "execution_count": 166,
   "id": "b290687e-5203-4081-a41d-6618294ba487",
   "metadata": {
    "tags": []
   },
   "outputs": [
    {
     "data": {
      "text/html": [
       "<div>\n",
       "<style scoped>\n",
       "    .dataframe tbody tr th:only-of-type {\n",
       "        vertical-align: middle;\n",
       "    }\n",
       "\n",
       "    .dataframe tbody tr th {\n",
       "        vertical-align: top;\n",
       "    }\n",
       "\n",
       "    .dataframe thead tr th {\n",
       "        text-align: left;\n",
       "    }\n",
       "</style>\n",
       "<table border=\"1\" class=\"dataframe\">\n",
       "  <thead>\n",
       "    <tr>\n",
       "      <th></th>\n",
       "      <th></th>\n",
       "      <th>drafted</th>\n",
       "    </tr>\n",
       "    <tr>\n",
       "      <th></th>\n",
       "      <th>player_id</th>\n",
       "      <th>0</th>\n",
       "    </tr>\n",
       "  </thead>\n",
       "  <tbody>\n",
       "    <tr>\n",
       "      <th>0</th>\n",
       "      <td>cf302b4d-84f7-4124-a25d-a75eed31978b</td>\n",
       "      <td>0.005742</td>\n",
       "    </tr>\n",
       "    <tr>\n",
       "      <th>1</th>\n",
       "      <td>f91837cd-4f49-4b70-963d-aeb82c6ce3da</td>\n",
       "      <td>0.005742</td>\n",
       "    </tr>\n",
       "    <tr>\n",
       "      <th>2</th>\n",
       "      <td>53ec2a29-1e7d-4c6d-86d7-d60d02af8916</td>\n",
       "      <td>0.005742</td>\n",
       "    </tr>\n",
       "    <tr>\n",
       "      <th>3</th>\n",
       "      <td>32402798-471c-4a54-8cb4-29cd95199014</td>\n",
       "      <td>0.005742</td>\n",
       "    </tr>\n",
       "    <tr>\n",
       "      <th>4</th>\n",
       "      <td>73b960f9-27b8-4431-9d23-a760e9bbc360</td>\n",
       "      <td>0.005742</td>\n",
       "    </tr>\n",
       "    <tr>\n",
       "      <th>...</th>\n",
       "      <td>...</td>\n",
       "      <td>...</td>\n",
       "    </tr>\n",
       "    <tr>\n",
       "      <th>4965</th>\n",
       "      <td>a25ee55f-02a3-4f8e-8194-a5f427e14e7c</td>\n",
       "      <td>0.005742</td>\n",
       "    </tr>\n",
       "    <tr>\n",
       "      <th>4966</th>\n",
       "      <td>d0d9f45e-7b01-44b3-8d40-514ec338611d</td>\n",
       "      <td>0.005742</td>\n",
       "    </tr>\n",
       "    <tr>\n",
       "      <th>4967</th>\n",
       "      <td>f8df22c4-1602-4fab-896d-8820951aae2f</td>\n",
       "      <td>0.005742</td>\n",
       "    </tr>\n",
       "    <tr>\n",
       "      <th>4968</th>\n",
       "      <td>b791c69a-f769-4163-afda-051a6fd20a9d</td>\n",
       "      <td>0.005742</td>\n",
       "    </tr>\n",
       "    <tr>\n",
       "      <th>4969</th>\n",
       "      <td>18b51f5d-4746-4121-88fd-c8d0a1399130</td>\n",
       "      <td>0.005742</td>\n",
       "    </tr>\n",
       "  </tbody>\n",
       "</table>\n",
       "<p>4970 rows × 2 columns</p>\n",
       "</div>"
      ],
      "text/plain": [
       "                                             drafted\n",
       "                                 player_id         0\n",
       "0     cf302b4d-84f7-4124-a25d-a75eed31978b  0.005742\n",
       "1     f91837cd-4f49-4b70-963d-aeb82c6ce3da  0.005742\n",
       "2     53ec2a29-1e7d-4c6d-86d7-d60d02af8916  0.005742\n",
       "3     32402798-471c-4a54-8cb4-29cd95199014  0.005742\n",
       "4     73b960f9-27b8-4431-9d23-a760e9bbc360  0.005742\n",
       "...                                    ...       ...\n",
       "4965  a25ee55f-02a3-4f8e-8194-a5f427e14e7c  0.005742\n",
       "4966  d0d9f45e-7b01-44b3-8d40-514ec338611d  0.005742\n",
       "4967  f8df22c4-1602-4fab-896d-8820951aae2f  0.005742\n",
       "4968  b791c69a-f769-4163-afda-051a6fd20a9d  0.005742\n",
       "4969  18b51f5d-4746-4121-88fd-c8d0a1399130  0.005742\n",
       "\n",
       "[4970 rows x 2 columns]"
      ]
     },
     "execution_count": 166,
     "metadata": {},
     "output_type": "execute_result"
    }
   ],
   "source": [
    "df_scores = pd.concat({'': player_id, 'drafted': pd.Series(y_score_test)}, axis = 1)\n",
    "df_scores"
   ]
  },
  {
   "cell_type": "markdown",
   "id": "dd12f1d7-8477-4517-b136-8847e7bade87",
   "metadata": {},
   "source": [
    "#### 3.1.1 Viewing ROC Results"
   ]
  },
  {
   "cell_type": "code",
   "execution_count": 167,
   "id": "960b6486-2606-4d99-acb1-a259b98f75fa",
   "metadata": {
    "tags": []
   },
   "outputs": [
    {
     "name": "stdout",
     "output_type": "stream",
     "text": [
      "Requirement already satisfied: matplotlib in c:\\users\\asus\\appdata\\local\\pypoetry\\cache\\virtualenvs\\mla-at1-zqofbsrg-py3.9\\lib\\site-packages (3.8.0)\n",
      "Requirement already satisfied: packaging>=20.0 in c:\\users\\asus\\appdata\\local\\pypoetry\\cache\\virtualenvs\\mla-at1-zqofbsrg-py3.9\\lib\\site-packages (from matplotlib) (23.1)\n",
      "Requirement already satisfied: contourpy>=1.0.1 in c:\\users\\asus\\appdata\\local\\pypoetry\\cache\\virtualenvs\\mla-at1-zqofbsrg-py3.9\\lib\\site-packages (from matplotlib) (1.1.1)\n",
      "Requirement already satisfied: pyparsing>=2.3.1 in c:\\users\\asus\\appdata\\local\\pypoetry\\cache\\virtualenvs\\mla-at1-zqofbsrg-py3.9\\lib\\site-packages (from matplotlib) (3.1.1)\n",
      "Requirement already satisfied: cycler>=0.10 in c:\\users\\asus\\appdata\\local\\pypoetry\\cache\\virtualenvs\\mla-at1-zqofbsrg-py3.9\\lib\\site-packages (from matplotlib) (0.12.0)\n",
      "Requirement already satisfied: python-dateutil>=2.7 in c:\\users\\asus\\appdata\\local\\pypoetry\\cache\\virtualenvs\\mla-at1-zqofbsrg-py3.9\\lib\\site-packages (from matplotlib) (2.8.2)\n",
      "Requirement already satisfied: importlib-resources>=3.2.0 in c:\\users\\asus\\appdata\\local\\pypoetry\\cache\\virtualenvs\\mla-at1-zqofbsrg-py3.9\\lib\\site-packages (from matplotlib) (6.1.0)\n",
      "Requirement already satisfied: kiwisolver>=1.0.1 in c:\\users\\asus\\appdata\\local\\pypoetry\\cache\\virtualenvs\\mla-at1-zqofbsrg-py3.9\\lib\\site-packages (from matplotlib) (1.4.5)\n",
      "Requirement already satisfied: numpy<2,>=1.21 in c:\\users\\asus\\appdata\\local\\pypoetry\\cache\\virtualenvs\\mla-at1-zqofbsrg-py3.9\\lib\\site-packages (from matplotlib) (1.25.2)\n",
      "Requirement already satisfied: pillow>=6.2.0 in c:\\users\\asus\\appdata\\local\\pypoetry\\cache\\virtualenvs\\mla-at1-zqofbsrg-py3.9\\lib\\site-packages (from matplotlib) (10.0.1)\n",
      "Requirement already satisfied: fonttools>=4.22.0 in c:\\users\\asus\\appdata\\local\\pypoetry\\cache\\virtualenvs\\mla-at1-zqofbsrg-py3.9\\lib\\site-packages (from matplotlib) (4.43.0)\n",
      "Requirement already satisfied: zipp>=3.1.0 in c:\\users\\asus\\appdata\\local\\pypoetry\\cache\\virtualenvs\\mla-at1-zqofbsrg-py3.9\\lib\\site-packages (from importlib-resources>=3.2.0->matplotlib) (3.17.0)\n",
      "Requirement already satisfied: six>=1.5 in c:\\users\\asus\\appdata\\local\\pypoetry\\cache\\virtualenvs\\mla-at1-zqofbsrg-py3.9\\lib\\site-packages (from python-dateutil>=2.7->matplotlib) (1.16.0)\n"
     ]
    }
   ],
   "source": [
    "!pip install matplotlib"
   ]
  },
  {
   "cell_type": "code",
   "execution_count": 168,
   "id": "6bb891c5-9c05-4582-8981-e7dc0f4b9a58",
   "metadata": {
    "tags": []
   },
   "outputs": [],
   "source": [
    "from sklearn import metrics\n",
    "import matplotlib.pyplot as plt"
   ]
  },
  {
   "cell_type": "code",
   "execution_count": 169,
   "id": "3da090e9-c363-4c0e-a0e3-0232a3ca82a3",
   "metadata": {
    "tags": []
   },
   "outputs": [],
   "source": [
    "y_score_train = predict_probability(X_train, clf)"
   ]
  },
  {
   "cell_type": "code",
   "execution_count": 170,
   "id": "c38950d3-3f54-441e-b665-ddc3483388e6",
   "metadata": {
    "tags": []
   },
   "outputs": [],
   "source": [
    "fpr, tpr, _ = metrics.roc_curve(y_train,  y_score_train)"
   ]
  },
  {
   "cell_type": "code",
   "execution_count": 171,
   "id": "ee7579bc-f093-47c2-bb0d-16edfe9b1349",
   "metadata": {
    "tags": []
   },
   "outputs": [
    {
     "data": {
      "image/png": "[encoded data removed]",
      "text/plain": [
       "<Figure size 640x480 with 1 Axes>"
      ]
     },
     "metadata": {},
     "output_type": "display_data"
    }
   ],
   "source": [
    "plt.plot(fpr,tpr)\n",
    "plt.ylabel('True Positive Rate')\n",
    "plt.xlabel('False Positive Rate')\n",
    "plt.title('Data: Train, Model: SVC class_weight=\"balanced\", C=0.5')\n",
    "\n",
    "plt.savefig('../reports/figures/Train_SVC_Weight_balanced_c_05.png')"
   ]
  },
  {
   "cell_type": "code",
   "execution_count": 172,
   "id": "738a8093-4b47-4b1a-8f8f-72ee234ea461",
   "metadata": {
    "tags": []
   },
   "outputs": [],
   "source": [
    "y_score_val = predict_probability(X_val, clf)"
   ]
  },
  {
   "cell_type": "code",
   "execution_count": 173,
   "id": "3fd979b3-8428-43e2-a60d-3051dd4a4e52",
   "metadata": {
    "tags": []
   },
   "outputs": [],
   "source": [
    "fpr, tpr, _ = metrics.roc_curve(y_val,  y_score_val)"
   ]
  },
  {
   "cell_type": "code",
   "execution_count": 174,
   "id": "092eb2e8-1374-4aa5-88b5-5917b6f4667e",
   "metadata": {
    "tags": []
   },
   "outputs": [
    {
     "data": {
      "image/png": "[encoded data removed]",
      "text/plain": [
       "<Figure size 640x480 with 1 Axes>"
      ]
     },
     "metadata": {},
     "output_type": "display_data"
    }
   ],
   "source": [
    "plt.plot(fpr,tpr)\n",
    "plt.ylabel('True Positive Rate')\n",
    "plt.xlabel('False Positive Rate')\n",
    "plt.title('Data: Validation, Model: SVC class_weight=\"balanced\", C=0.5')\n",
    "\n",
    "plt.savefig('../reports/figures/Validation_SVC_Weight_balanced_c_05.png')"
   ]
  },
  {
   "cell_type": "markdown",
   "id": "968f1aa3-2f47-4b0c-8b92-91a7dc76c761",
   "metadata": {},
   "source": [
    "#### 2.2. With weights = 'balanced', C Regularisation Parameter = 0.8"
   ]
  },
  {
   "cell_type": "code",
   "execution_count": 175,
   "id": "55a07803-efb3-4d12-b63b-d7d7b2ef2e68",
   "metadata": {
    "tags": []
   },
   "outputs": [],
   "source": [
    "svc_1 = SVC(probability=True, class_weight='balanced', C = 0.8)"
   ]
  },
  {
   "cell_type": "code",
   "execution_count": 176,
   "id": "b8fc7758-fae8-41f1-acb3-e369fe19d27f",
   "metadata": {
    "tags": []
   },
   "outputs": [],
   "source": [
    "clf = svc_1.fit(X_train, y_train)"
   ]
  },
  {
   "cell_type": "code",
   "execution_count": 177,
   "id": "58611d1f-957b-4ae8-b459-3b48f3f84f51",
   "metadata": {
    "tags": []
   },
   "outputs": [],
   "source": [
    "y_train_preds = svc_1.predict(X_train)\n",
    "y_val_preds = svc_1.predict(X_val)"
   ]
  },
  {
   "cell_type": "code",
   "execution_count": 178,
   "id": "e59c68f8-f791-44f8-bd4f-b2207f7f9e49",
   "metadata": {
    "tags": []
   },
   "outputs": [
    {
     "name": "stdout",
     "output_type": "stream",
     "text": [
      "roc_auc_score for Training data: 0.9947570310130062\n"
     ]
    }
   ],
   "source": [
    "print_regressor_scores_at1(X = X_train, y_actuals=y_train, model = svc_1, set_name='Training')"
   ]
  },
  {
   "cell_type": "code",
   "execution_count": 179,
   "id": "6fe2dd93-0da1-47b8-85f6-1d3470d5a4d5",
   "metadata": {
    "tags": []
   },
   "outputs": [
    {
     "name": "stdout",
     "output_type": "stream",
     "text": [
      "roc_auc_score for Validation data: 0.9895766002334141\n"
     ]
    }
   ],
   "source": [
    "print_regressor_scores_at1(X = X_val, y_actuals=y_val, model = svc_1, set_name='Validation')"
   ]
  },
  {
   "cell_type": "code",
   "execution_count": 180,
   "id": "0c7a0d31-3705-4c41-8cda-30a6c515a002",
   "metadata": {
    "tags": []
   },
   "outputs": [],
   "source": [
    "y_score_val = predict_probability(X_val, clf)"
   ]
  },
  {
   "cell_type": "code",
   "execution_count": 181,
   "id": "cbbd2535-45fe-4dbe-a26f-520728f92601",
   "metadata": {
    "tags": []
   },
   "outputs": [
    {
     "data": {
      "text/plain": [
       "array([0.00495385, 0.00377144, 0.0029546 , ..., 0.00506215, 0.00014082,\n",
       "       0.00138215])"
      ]
     },
     "execution_count": 181,
     "metadata": {},
     "output_type": "execute_result"
    }
   ],
   "source": [
    "y_score_val"
   ]
  },
  {
   "cell_type": "code",
   "execution_count": 182,
   "id": "4e1647fe-dbfe-433d-a273-3986f593ef4c",
   "metadata": {
    "tags": []
   },
   "outputs": [],
   "source": [
    "player_id = pd.read_csv(\"../data/processed/player_id.csv\")\n",
    "player_id = player_id.drop(player_id.columns[0], axis=1)"
   ]
  },
  {
   "cell_type": "code",
   "execution_count": 183,
   "id": "9744a77c-c50d-4f94-a38f-d36a789be976",
   "metadata": {
    "tags": []
   },
   "outputs": [],
   "source": [
    "y_score_test = predict_probability(X_test, clf)"
   ]
  },
  {
   "cell_type": "code",
   "execution_count": 184,
   "id": "2a652948-9953-40e9-ade6-1bd48e7a8a33",
   "metadata": {
    "tags": []
   },
   "outputs": [
    {
     "data": {
      "text/plain": [
       "array([0.0067555, 0.0067555, 0.0067555, ..., 0.0067555, 0.0067555,\n",
       "       0.0067555])"
      ]
     },
     "execution_count": 184,
     "metadata": {},
     "output_type": "execute_result"
    }
   ],
   "source": [
    "y_score_test"
   ]
  },
  {
   "cell_type": "code",
   "execution_count": 185,
   "id": "657c6924-dfb2-4310-b355-a721eee09104",
   "metadata": {
    "tags": []
   },
   "outputs": [
    {
     "data": {
      "text/html": [
       "<div>\n",
       "<style scoped>\n",
       "    .dataframe tbody tr th:only-of-type {\n",
       "        vertical-align: middle;\n",
       "    }\n",
       "\n",
       "    .dataframe tbody tr th {\n",
       "        vertical-align: top;\n",
       "    }\n",
       "\n",
       "    .dataframe thead tr th {\n",
       "        text-align: left;\n",
       "    }\n",
       "</style>\n",
       "<table border=\"1\" class=\"dataframe\">\n",
       "  <thead>\n",
       "    <tr>\n",
       "      <th></th>\n",
       "      <th></th>\n",
       "      <th>drafted</th>\n",
       "    </tr>\n",
       "    <tr>\n",
       "      <th></th>\n",
       "      <th>player_id</th>\n",
       "      <th>0</th>\n",
       "    </tr>\n",
       "  </thead>\n",
       "  <tbody>\n",
       "    <tr>\n",
       "      <th>0</th>\n",
       "      <td>cf302b4d-84f7-4124-a25d-a75eed31978b</td>\n",
       "      <td>0.004954</td>\n",
       "    </tr>\n",
       "    <tr>\n",
       "      <th>1</th>\n",
       "      <td>f91837cd-4f49-4b70-963d-aeb82c6ce3da</td>\n",
       "      <td>0.003771</td>\n",
       "    </tr>\n",
       "    <tr>\n",
       "      <th>2</th>\n",
       "      <td>53ec2a29-1e7d-4c6d-86d7-d60d02af8916</td>\n",
       "      <td>0.002955</td>\n",
       "    </tr>\n",
       "    <tr>\n",
       "      <th>3</th>\n",
       "      <td>32402798-471c-4a54-8cb4-29cd95199014</td>\n",
       "      <td>0.002798</td>\n",
       "    </tr>\n",
       "    <tr>\n",
       "      <th>4</th>\n",
       "      <td>73b960f9-27b8-4431-9d23-a760e9bbc360</td>\n",
       "      <td>0.000032</td>\n",
       "    </tr>\n",
       "    <tr>\n",
       "      <th>...</th>\n",
       "      <td>...</td>\n",
       "      <td>...</td>\n",
       "    </tr>\n",
       "    <tr>\n",
       "      <th>11214</th>\n",
       "      <td>NaN</td>\n",
       "      <td>0.023645</td>\n",
       "    </tr>\n",
       "    <tr>\n",
       "      <th>11215</th>\n",
       "      <td>NaN</td>\n",
       "      <td>0.002246</td>\n",
       "    </tr>\n",
       "    <tr>\n",
       "      <th>11216</th>\n",
       "      <td>NaN</td>\n",
       "      <td>0.005062</td>\n",
       "    </tr>\n",
       "    <tr>\n",
       "      <th>11217</th>\n",
       "      <td>NaN</td>\n",
       "      <td>0.000141</td>\n",
       "    </tr>\n",
       "    <tr>\n",
       "      <th>11218</th>\n",
       "      <td>NaN</td>\n",
       "      <td>0.001382</td>\n",
       "    </tr>\n",
       "  </tbody>\n",
       "</table>\n",
       "<p>11219 rows × 2 columns</p>\n",
       "</div>"
      ],
      "text/plain": [
       "                                              drafted\n",
       "                                  player_id         0\n",
       "0      cf302b4d-84f7-4124-a25d-a75eed31978b  0.004954\n",
       "1      f91837cd-4f49-4b70-963d-aeb82c6ce3da  0.003771\n",
       "2      53ec2a29-1e7d-4c6d-86d7-d60d02af8916  0.002955\n",
       "3      32402798-471c-4a54-8cb4-29cd95199014  0.002798\n",
       "4      73b960f9-27b8-4431-9d23-a760e9bbc360  0.000032\n",
       "...                                     ...       ...\n",
       "11214                                   NaN  0.023645\n",
       "11215                                   NaN  0.002246\n",
       "11216                                   NaN  0.005062\n",
       "11217                                   NaN  0.000141\n",
       "11218                                   NaN  0.001382\n",
       "\n",
       "[11219 rows x 2 columns]"
      ]
     },
     "execution_count": 185,
     "metadata": {},
     "output_type": "execute_result"
    }
   ],
   "source": [
    "df_scores = pd.concat({'': player_id, 'drafted': pd.Series(y_score_val)}, axis = 1)\n",
    "df_scores"
   ]
  },
  {
   "cell_type": "code",
   "execution_count": 186,
   "id": "18beaae6-bb98-4ec7-b3ad-78b71b99d070",
   "metadata": {
    "tags": []
   },
   "outputs": [
    {
     "data": {
      "text/html": [
       "<div>\n",
       "<style scoped>\n",
       "    .dataframe tbody tr th:only-of-type {\n",
       "        vertical-align: middle;\n",
       "    }\n",
       "\n",
       "    .dataframe tbody tr th {\n",
       "        vertical-align: top;\n",
       "    }\n",
       "\n",
       "    .dataframe thead tr th {\n",
       "        text-align: left;\n",
       "    }\n",
       "</style>\n",
       "<table border=\"1\" class=\"dataframe\">\n",
       "  <thead>\n",
       "    <tr>\n",
       "      <th></th>\n",
       "      <th></th>\n",
       "      <th>drafted</th>\n",
       "    </tr>\n",
       "    <tr>\n",
       "      <th></th>\n",
       "      <th>player_id</th>\n",
       "      <th>0</th>\n",
       "    </tr>\n",
       "  </thead>\n",
       "  <tbody>\n",
       "    <tr>\n",
       "      <th>0</th>\n",
       "      <td>cf302b4d-84f7-4124-a25d-a75eed31978b</td>\n",
       "      <td>0.006756</td>\n",
       "    </tr>\n",
       "    <tr>\n",
       "      <th>1</th>\n",
       "      <td>f91837cd-4f49-4b70-963d-aeb82c6ce3da</td>\n",
       "      <td>0.006756</td>\n",
       "    </tr>\n",
       "    <tr>\n",
       "      <th>2</th>\n",
       "      <td>53ec2a29-1e7d-4c6d-86d7-d60d02af8916</td>\n",
       "      <td>0.006756</td>\n",
       "    </tr>\n",
       "    <tr>\n",
       "      <th>3</th>\n",
       "      <td>32402798-471c-4a54-8cb4-29cd95199014</td>\n",
       "      <td>0.006756</td>\n",
       "    </tr>\n",
       "    <tr>\n",
       "      <th>4</th>\n",
       "      <td>73b960f9-27b8-4431-9d23-a760e9bbc360</td>\n",
       "      <td>0.006756</td>\n",
       "    </tr>\n",
       "    <tr>\n",
       "      <th>...</th>\n",
       "      <td>...</td>\n",
       "      <td>...</td>\n",
       "    </tr>\n",
       "    <tr>\n",
       "      <th>4965</th>\n",
       "      <td>a25ee55f-02a3-4f8e-8194-a5f427e14e7c</td>\n",
       "      <td>0.006756</td>\n",
       "    </tr>\n",
       "    <tr>\n",
       "      <th>4966</th>\n",
       "      <td>d0d9f45e-7b01-44b3-8d40-514ec338611d</td>\n",
       "      <td>0.006756</td>\n",
       "    </tr>\n",
       "    <tr>\n",
       "      <th>4967</th>\n",
       "      <td>f8df22c4-1602-4fab-896d-8820951aae2f</td>\n",
       "      <td>0.006756</td>\n",
       "    </tr>\n",
       "    <tr>\n",
       "      <th>4968</th>\n",
       "      <td>b791c69a-f769-4163-afda-051a6fd20a9d</td>\n",
       "      <td>0.006756</td>\n",
       "    </tr>\n",
       "    <tr>\n",
       "      <th>4969</th>\n",
       "      <td>18b51f5d-4746-4121-88fd-c8d0a1399130</td>\n",
       "      <td>0.006756</td>\n",
       "    </tr>\n",
       "  </tbody>\n",
       "</table>\n",
       "<p>4970 rows × 2 columns</p>\n",
       "</div>"
      ],
      "text/plain": [
       "                                             drafted\n",
       "                                 player_id         0\n",
       "0     cf302b4d-84f7-4124-a25d-a75eed31978b  0.006756\n",
       "1     f91837cd-4f49-4b70-963d-aeb82c6ce3da  0.006756\n",
       "2     53ec2a29-1e7d-4c6d-86d7-d60d02af8916  0.006756\n",
       "3     32402798-471c-4a54-8cb4-29cd95199014  0.006756\n",
       "4     73b960f9-27b8-4431-9d23-a760e9bbc360  0.006756\n",
       "...                                    ...       ...\n",
       "4965  a25ee55f-02a3-4f8e-8194-a5f427e14e7c  0.006756\n",
       "4966  d0d9f45e-7b01-44b3-8d40-514ec338611d  0.006756\n",
       "4967  f8df22c4-1602-4fab-896d-8820951aae2f  0.006756\n",
       "4968  b791c69a-f769-4163-afda-051a6fd20a9d  0.006756\n",
       "4969  18b51f5d-4746-4121-88fd-c8d0a1399130  0.006756\n",
       "\n",
       "[4970 rows x 2 columns]"
      ]
     },
     "execution_count": 186,
     "metadata": {},
     "output_type": "execute_result"
    }
   ],
   "source": [
    "df_scores = pd.concat({'': player_id, 'drafted': pd.Series(y_score_test)}, axis = 1)\n",
    "df_scores"
   ]
  },
  {
   "cell_type": "markdown",
   "id": "8e708eda-29ea-45c1-944e-a45dd91e665a",
   "metadata": {},
   "source": [
    "#### 2.2.1 Viewing ROC Results"
   ]
  },
  {
   "cell_type": "code",
   "execution_count": 187,
   "id": "21071ddd-20da-44a8-81bb-4094e5ee05b6",
   "metadata": {
    "tags": []
   },
   "outputs": [],
   "source": [
    "y_score_train = predict_probability(X_train, clf)"
   ]
  },
  {
   "cell_type": "code",
   "execution_count": 188,
   "id": "920eb380-4e0f-4323-b7a7-d018b55fdb39",
   "metadata": {
    "tags": []
   },
   "outputs": [],
   "source": [
    "fpr, tpr, _ = metrics.roc_curve(y_train,  y_score_train)"
   ]
  },
  {
   "cell_type": "code",
   "execution_count": 189,
   "id": "3abe0aec-bd8e-489d-b344-1bd217750dda",
   "metadata": {
    "tags": []
   },
   "outputs": [
    {
     "data": {
      "image/png": "[encoded data removed]",
      "text/plain": [
       "<Figure size 640x480 with 1 Axes>"
      ]
     },
     "metadata": {},
     "output_type": "display_data"
    }
   ],
   "source": [
    "plt.plot(fpr,tpr)\n",
    "plt.ylabel('True Positive Rate')\n",
    "plt.xlabel('False Positive Rate')\n",
    "plt.title('Data: Train, Model: SVC class_weight=\"balanced\", C=0.8')\n",
    "\n",
    "plt.savefig('../reports/figures/Train_SVC_Weight_balanced_c_08.png')"
   ]
  },
  {
   "cell_type": "code",
   "execution_count": 190,
   "id": "4f349eb2-cb32-475d-b026-2f80ed9223aa",
   "metadata": {
    "tags": []
   },
   "outputs": [],
   "source": [
    "y_score_val = predict_probability(X_val, clf)"
   ]
  },
  {
   "cell_type": "code",
   "execution_count": 191,
   "id": "cc1e5faf-8354-41a0-9be6-e319fc6a34e3",
   "metadata": {
    "tags": []
   },
   "outputs": [],
   "source": [
    "fpr, tpr, _ = metrics.roc_curve(y_val,  y_score_val)"
   ]
  },
  {
   "cell_type": "code",
   "execution_count": 192,
   "id": "63b72944-0ca5-4d24-9c5e-e180c66c465a",
   "metadata": {
    "tags": []
   },
   "outputs": [
    {
     "data": {
      "image/png": "[encoded data removed]",
      "text/plain": [
       "<Figure size 640x480 with 1 Axes>"
      ]
     },
     "metadata": {},
     "output_type": "display_data"
    }
   ],
   "source": [
    "plt.plot(fpr,tpr)\n",
    "plt.ylabel('True Positive Rate')\n",
    "plt.xlabel('False Positive Rate')\n",
    "plt.title('Data: Validation, Model: SVC class_weight=\"balanced\", C=0.8')\n",
    "\n",
    "plt.savefig('../reports/figures/Validation_SVC_Weight_balanced_c_08.png')"
   ]
  },
  {
   "cell_type": "markdown",
   "id": "b715504d-aa03-4f33-b824-b8048942f9b7",
   "metadata": {},
   "source": [
    "# 4. Saving The Best Model"
   ]
  },
  {
   "cell_type": "code",
   "execution_count": 193,
   "id": "ab39bdd8-3e43-422e-842a-373d4fbab87d",
   "metadata": {
    "tags": []
   },
   "outputs": [
    {
     "data": {
      "text/plain": [
       "['../models/svc_week3.joblib']"
      ]
     },
     "execution_count": 193,
     "metadata": {},
     "output_type": "execute_result"
    }
   ],
   "source": [
    "from joblib import dump\n",
    "\n",
    "dump(svc_1,  '../models/svc_week3.joblib')"
   ]
  }
 ],
 "metadata": {
  "kernelspec": {
   "display_name": "Python 3 (ipykernel)",
   "language": "python",
   "name": "python3"
  },
  "language_info": {
   "codemirror_mode": {
    "name": "ipython",
    "version": 3
   },
   "file_extension": ".py",
   "mimetype": "text/x-python",
   "name": "python",
   "nbconvert_exporter": "python",
   "pygments_lexer": "ipython3",
   "version": "3.9.13"
  }
 },
 "nbformat": 4,
 "nbformat_minor": 5
}
