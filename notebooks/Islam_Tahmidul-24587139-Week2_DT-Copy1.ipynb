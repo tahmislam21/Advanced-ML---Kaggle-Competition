{
 "cells": [
  {
   "cell_type": "markdown",
   "id": "51abb16b-247c-41ae-97ab-748e0644e7f6",
   "metadata": {},
   "source": [
    "# 1. Import necessary Libraries"
   ]
  },
  {
   "cell_type": "code",
   "execution_count": 198,
   "id": "0aef307f-e034-446d-b8b6-b21d5cdaf8a2",
   "metadata": {
    "tags": []
   },
   "outputs": [
    {
     "name": "stdout",
     "output_type": "stream",
     "text": [
      "The autoreload extension is already loaded. To reload it, use:\n",
      "  %reload_ext autoreload\n"
     ]
    }
   ],
   "source": [
    "%load_ext autoreload\n",
    "%autoreload 2"
   ]
  },
  {
   "cell_type": "code",
   "execution_count": 200,
   "id": "3f5526d2-9e49-4a64-b5d4-2654e4c611c3",
   "metadata": {
    "tags": []
   },
   "outputs": [
    {
     "name": "stdout",
     "output_type": "stream",
     "text": [
      "Looking in indexes: https://test.pypi.org/simple/\n",
      "Requirement already satisfied: my-krml-24587139 in c:\\users\\asus\\appdata\\local\\pypoetry\\cache\\virtualenvs\\mla-at1-zqofbsrg-py3.9\\lib\\site-packages (0.1.1)\n",
      "Requirement already satisfied: scikit-learn==1.2.2 in c:\\users\\asus\\appdata\\local\\pypoetry\\cache\\virtualenvs\\mla-at1-zqofbsrg-py3.9\\lib\\site-packages (from my-krml-24587139) (1.2.2)\n",
      "Requirement already satisfied: pandas==2.0.1 in c:\\users\\asus\\appdata\\local\\pypoetry\\cache\\virtualenvs\\mla-at1-zqofbsrg-py3.9\\lib\\site-packages (from my-krml-24587139) (2.0.1)\n",
      "Requirement already satisfied: python-dateutil>=2.8.2 in c:\\users\\asus\\appdata\\local\\pypoetry\\cache\\virtualenvs\\mla-at1-zqofbsrg-py3.9\\lib\\site-packages (from pandas==2.0.1->my-krml-24587139) (2.8.2)\n",
      "Requirement already satisfied: numpy>=1.20.3 in c:\\users\\asus\\appdata\\local\\pypoetry\\cache\\virtualenvs\\mla-at1-zqofbsrg-py3.9\\lib\\site-packages (from pandas==2.0.1->my-krml-24587139) (1.25.2)\n",
      "Requirement already satisfied: tzdata>=2022.1 in c:\\users\\asus\\appdata\\local\\pypoetry\\cache\\virtualenvs\\mla-at1-zqofbsrg-py3.9\\lib\\site-packages (from pandas==2.0.1->my-krml-24587139) (2023.3)\n",
      "Requirement already satisfied: pytz>=2020.1 in c:\\users\\asus\\appdata\\local\\pypoetry\\cache\\virtualenvs\\mla-at1-zqofbsrg-py3.9\\lib\\site-packages (from pandas==2.0.1->my-krml-24587139) (2023.3.post1)\n",
      "Requirement already satisfied: scipy>=1.3.2 in c:\\users\\asus\\appdata\\local\\pypoetry\\cache\\virtualenvs\\mla-at1-zqofbsrg-py3.9\\lib\\site-packages (from scikit-learn==1.2.2->my-krml-24587139) (1.9.3)\n",
      "Requirement already satisfied: threadpoolctl>=2.0.0 in c:\\users\\asus\\appdata\\local\\pypoetry\\cache\\virtualenvs\\mla-at1-zqofbsrg-py3.9\\lib\\site-packages (from scikit-learn==1.2.2->my-krml-24587139) (3.2.0)\n",
      "Requirement already satisfied: joblib>=1.1.1 in c:\\users\\asus\\appdata\\local\\pypoetry\\cache\\virtualenvs\\mla-at1-zqofbsrg-py3.9\\lib\\site-packages (from scikit-learn==1.2.2->my-krml-24587139) (1.3.2)\n",
      "Requirement already satisfied: six>=1.5 in c:\\users\\asus\\appdata\\local\\pypoetry\\cache\\virtualenvs\\mla-at1-zqofbsrg-py3.9\\lib\\site-packages (from python-dateutil>=2.8.2->pandas==2.0.1->my-krml-24587139) (1.16.0)\n"
     ]
    }
   ],
   "source": [
    "! pip install -i https://test.pypi.org/simple/ my-krml-24587139"
   ]
  },
  {
   "cell_type": "code",
   "execution_count": 202,
   "id": "90ff7e4e-6369-4b15-a43e-49884f710e7a",
   "metadata": {
    "tags": []
   },
   "outputs": [],
   "source": [
    "import pandas as pd\n",
    "import numpy as np"
   ]
  },
  {
   "cell_type": "markdown",
   "id": "150c19db-6986-42bf-9ea1-906a1b31703c",
   "metadata": {},
   "source": [
    "# 2. Load Dataset"
   ]
  },
  {
   "cell_type": "code",
   "execution_count": 204,
   "id": "4a9195cf-bdeb-4366-86d5-f5d5bac84e90",
   "metadata": {
    "tags": []
   },
   "outputs": [],
   "source": [
    "df_train_cleaned = pd.read_csv('../data/processed/df_train_cleaned.csv')\n",
    "df_test_cleaned = pd.read_csv('../data/processed/df_test_cleaned.csv')"
   ]
  },
  {
   "cell_type": "code",
   "execution_count": 206,
   "id": "127169f0-908b-4a42-bd52-34b590969f03",
   "metadata": {
    "tags": []
   },
   "outputs": [],
   "source": [
    "from my_krml_24587139.data.sets import pop_target"
   ]
  },
  {
   "cell_type": "code",
   "execution_count": 208,
   "id": "cb036896-3535-4089-a82d-324eab7a3a94",
   "metadata": {
    "tags": []
   },
   "outputs": [],
   "source": [
    "df_train_cleaned, target = pop_target(df_train_cleaned, 'drafted')"
   ]
  },
  {
   "cell_type": "markdown",
   "id": "4e8a231e-8079-46d8-8edd-af659459d428",
   "metadata": {},
   "source": [
    "# 3. Standardize Data"
   ]
  },
  {
   "cell_type": "code",
   "execution_count": 210,
   "id": "e6c17fd8-115b-4ca4-92f8-8bf562d007c5",
   "metadata": {
    "tags": []
   },
   "outputs": [],
   "source": [
    "import pickle"
   ]
  },
  {
   "cell_type": "code",
   "execution_count": 212,
   "id": "29778b4c-9f75-4b61-9720-0fdd210e17ed",
   "metadata": {
    "tags": []
   },
   "outputs": [],
   "source": [
    "with open('../models/scaler.joblib', 'rb') as f:\n",
    "    scaler = pickle.load(f)"
   ]
  },
  {
   "cell_type": "code",
   "execution_count": 214,
   "id": "d8fabc2c-2544-44f0-b362-3729c863a012",
   "metadata": {
    "tags": []
   },
   "outputs": [
    {
     "name": "stdout",
     "output_type": "stream",
     "text": [
      "(56091, 54)\n",
      "(4970, 54)\n"
     ]
    }
   ],
   "source": [
    "print(df_train_cleaned.shape)\n",
    "print(df_test_cleaned.shape)"
   ]
  },
  {
   "cell_type": "code",
   "execution_count": 216,
   "id": "ff9b48eb-6426-4dfc-b75f-0fa19140a286",
   "metadata": {
    "tags": []
   },
   "outputs": [],
   "source": [
    "df_train_cleaned = pd.DataFrame(scaler.fit_transform(df_train_cleaned), columns=df_train_cleaned.columns)\n",
    "df_test_cleaned = pd.DataFrame(scaler.fit_transform(df_test_cleaned), columns=df_test_cleaned.columns)"
   ]
  },
  {
   "cell_type": "markdown",
   "id": "91f7b0c5-8788-4e14-b525-666e6d445317",
   "metadata": {
    "tags": []
   },
   "source": [
    "# 4. Splitting Data"
   ]
  },
  {
   "cell_type": "code",
   "execution_count": 218,
   "id": "2d9bcf45-c2b2-4a41-a648-0bb84df83182",
   "metadata": {
    "tags": []
   },
   "outputs": [],
   "source": [
    "from my_krml_24587139.data.sets import split_sets_at1"
   ]
  },
  {
   "cell_type": "code",
   "execution_count": 220,
   "id": "8c86e90a-77f3-44b7-be09-3b201d287fb3",
   "metadata": {
    "tags": []
   },
   "outputs": [],
   "source": [
    "X_train, X_val, y_train, y_val = split_sets_at1(df_train_cleaned, target, test_ratio=0.2)"
   ]
  },
  {
   "cell_type": "code",
   "execution_count": 222,
   "id": "a54802fa-5115-4a22-800b-b7246fe4d9b9",
   "metadata": {
    "tags": []
   },
   "outputs": [
    {
     "name": "stdout",
     "output_type": "stream",
     "text": [
      "(44872, 54)\n",
      "(44872,)\n",
      "(4970, 54)\n"
     ]
    }
   ],
   "source": [
    "print(X_train.shape)\n",
    "print(y_train.shape)\n",
    "print(df_test_cleaned.shape)"
   ]
  },
  {
   "cell_type": "code",
   "execution_count": 224,
   "id": "0fe48814-0214-4e52-8258-80ba15d4e8f0",
   "metadata": {
    "tags": []
   },
   "outputs": [
    {
     "data": {
      "text/plain": [
       "pandas.core.series.Series"
      ]
     },
     "execution_count": 224,
     "metadata": {},
     "output_type": "execute_result"
    }
   ],
   "source": [
    "type(y_train)"
   ]
  },
  {
   "cell_type": "code",
   "execution_count": 226,
   "id": "a6ec6ecc-aad5-423e-8167-169cf3944953",
   "metadata": {
    "tags": []
   },
   "outputs": [],
   "source": [
    "X_test = df_test_cleaned.copy()"
   ]
  },
  {
   "cell_type": "markdown",
   "id": "42e17288-a718-4bfa-8974-d125e6ffd9c9",
   "metadata": {},
   "source": [
    "# 5. Apply PCA for Dimensionality Reduction"
   ]
  },
  {
   "cell_type": "code",
   "execution_count": 228,
   "id": "8f92c6b0-596e-4675-9707-2c97e38c54f8",
   "metadata": {
    "tags": []
   },
   "outputs": [],
   "source": [
    "from my_krml_24587139.data.sets import apply_pca"
   ]
  },
  {
   "cell_type": "code",
   "execution_count": 230,
   "id": "03d7c28d-9543-4d27-a20f-225e22bd8b89",
   "metadata": {
    "tags": []
   },
   "outputs": [],
   "source": [
    "X_train = apply_pca(X_train , n_components = 0.99)\n",
    "X_val = apply_pca(X_val , n_components = 0.99)\n",
    "X_test = apply_pca(X_test , n_components = 0.99)"
   ]
  },
  {
   "cell_type": "code",
   "execution_count": 232,
   "id": "1ffc5b5d-e3dc-4ab4-bd79-597b637700fb",
   "metadata": {
    "tags": []
   },
   "outputs": [],
   "source": [
    "from my_krml_24587139.data.sets import save_sets"
   ]
  },
  {
   "cell_type": "code",
   "execution_count": 233,
   "id": "0cedff9a-13d0-451e-8bdf-295814c09852",
   "metadata": {
    "tags": []
   },
   "outputs": [],
   "source": [
    "save_sets(X_train, y_train, X_val, y_val, X_test, path='../data/processed/')\n"
   ]
  },
  {
   "cell_type": "code",
   "execution_count": 234,
   "id": "c663bda5-fd2b-4e83-a90e-408196456cdd",
   "metadata": {
    "tags": []
   },
   "outputs": [
    {
     "data": {
      "text/plain": [
       "pandas.core.series.Series"
      ]
     },
     "execution_count": 234,
     "metadata": {},
     "output_type": "execute_result"
    }
   ],
   "source": [
    "type(y_train)"
   ]
  },
  {
   "cell_type": "markdown",
   "id": "f737ed25-f523-44ea-a7cb-6b1f736607dd",
   "metadata": {
    "tags": []
   },
   "source": [
    "# 6. Train SVM "
   ]
  },
  {
   "cell_type": "markdown",
   "id": "8b9cce59-13ef-4b68-a7cb-d0c12709fa16",
   "metadata": {},
   "source": [
    "#### 6.1. With Default Parameters"
   ]
  },
  {
   "cell_type": "code",
   "execution_count": 235,
   "id": "84c5b665-ab5e-49ed-a8f0-745d9d504809",
   "metadata": {
    "tags": []
   },
   "outputs": [],
   "source": [
    "from sklearn.svm import SVC"
   ]
  },
  {
   "cell_type": "code",
   "execution_count": 236,
   "id": "0ac66d90-eb1e-434a-85a2-0801d2308f5b",
   "metadata": {
    "tags": []
   },
   "outputs": [],
   "source": [
    "svc_1 = SVC(probability=True)"
   ]
  },
  {
   "cell_type": "code",
   "execution_count": 237,
   "id": "6d75e1a6-f104-4896-9b00-89ca52ce589b",
   "metadata": {
    "tags": []
   },
   "outputs": [],
   "source": [
    "clf = svc_1.fit(X_train, y_train)"
   ]
  },
  {
   "cell_type": "code",
   "execution_count": 238,
   "id": "0c8291a2-cc4f-4f95-a6ac-ecdf19b88a71",
   "metadata": {
    "tags": []
   },
   "outputs": [],
   "source": [
    "y_train_preds = svc_1.predict(X_train)\n",
    "y_val_preds = svc_1.predict(X_val)"
   ]
  },
  {
   "cell_type": "code",
   "execution_count": 239,
   "id": "0a9fa411-c179-47bb-80bd-3765734083fc",
   "metadata": {
    "tags": []
   },
   "outputs": [],
   "source": [
    "from my_krml_24587139.models.performance import print_regressor_scores_at1"
   ]
  },
  {
   "cell_type": "code",
   "execution_count": 240,
   "id": "fc62b045-fa16-48c0-a16b-613ae3970b5b",
   "metadata": {
    "tags": []
   },
   "outputs": [
    {
     "name": "stdout",
     "output_type": "stream",
     "text": [
      "roc_auc_score for Training data: 0.9398137011634815\n"
     ]
    }
   ],
   "source": [
    "print_regressor_scores_at1(X = X_train, y_actuals=y_train, model = svc_1, set_name='Training')"
   ]
  },
  {
   "cell_type": "code",
   "execution_count": 241,
   "id": "b4aa0c63-b069-460e-81ea-eb7b10dd2089",
   "metadata": {
    "tags": []
   },
   "outputs": [
    {
     "name": "stdout",
     "output_type": "stream",
     "text": [
      "roc_auc_score for Validation data: 0.6412952239877907\n"
     ]
    }
   ],
   "source": [
    "print_regressor_scores_at1(X = X_val, y_actuals=y_val, model = svc_1, set_name='Validation')"
   ]
  },
  {
   "cell_type": "code",
   "execution_count": 242,
   "id": "2bf096f3-1e5f-481e-9799-fe0cfe450682",
   "metadata": {
    "tags": []
   },
   "outputs": [],
   "source": [
    "from my_krml_24587139.models.performance import predict_probability"
   ]
  },
  {
   "cell_type": "code",
   "execution_count": 243,
   "id": "7416a2a8-efdb-49c8-af7b-896f78c9205c",
   "metadata": {
    "tags": []
   },
   "outputs": [],
   "source": [
    "y_score_val = predict_probability(X_val, clf)"
   ]
  },
  {
   "cell_type": "code",
   "execution_count": 244,
   "id": "484c1d8e-175d-4bde-95db-c2655eb7fca8",
   "metadata": {
    "tags": []
   },
   "outputs": [
    {
     "data": {
      "text/plain": [
       "array([0.00905644, 0.00360325, 0.00096765, ..., 0.01918495, 0.00738618,\n",
       "       0.01087659])"
      ]
     },
     "execution_count": 244,
     "metadata": {},
     "output_type": "execute_result"
    }
   ],
   "source": [
    "y_score_val"
   ]
  },
  {
   "cell_type": "code",
   "execution_count": 245,
   "id": "11e9899f-2441-49c3-846b-296089118e7c",
   "metadata": {
    "tags": []
   },
   "outputs": [],
   "source": [
    "player_id = pd.read_csv(\"../data/processed/player_id.csv\")\n",
    "player_id = player_id.drop(player_id.columns[0], axis=1)"
   ]
  },
  {
   "cell_type": "code",
   "execution_count": 246,
   "id": "628479d0-9a5e-4067-baaa-46afb969b049",
   "metadata": {
    "tags": []
   },
   "outputs": [],
   "source": [
    "y_score_test = predict_probability(X_test, clf)"
   ]
  },
  {
   "cell_type": "code",
   "execution_count": 247,
   "id": "ab32dfa4-7c7d-4943-905d-0f3ee9bf330a",
   "metadata": {
    "tags": []
   },
   "outputs": [
    {
     "data": {
      "text/plain": [
       "array([0.01019238, 0.00493089, 0.00799844, ..., 0.00689752, 0.00692363,\n",
       "       0.00888212])"
      ]
     },
     "execution_count": 247,
     "metadata": {},
     "output_type": "execute_result"
    }
   ],
   "source": [
    "y_score_test"
   ]
  },
  {
   "cell_type": "code",
   "execution_count": 248,
   "id": "a307ca6b-6484-4da7-90e1-defc564a8eeb",
   "metadata": {
    "tags": []
   },
   "outputs": [
    {
     "data": {
      "text/html": [
       "<div>\n",
       "<style scoped>\n",
       "    .dataframe tbody tr th:only-of-type {\n",
       "        vertical-align: middle;\n",
       "    }\n",
       "\n",
       "    .dataframe tbody tr th {\n",
       "        vertical-align: top;\n",
       "    }\n",
       "\n",
       "    .dataframe thead tr th {\n",
       "        text-align: left;\n",
       "    }\n",
       "</style>\n",
       "<table border=\"1\" class=\"dataframe\">\n",
       "  <thead>\n",
       "    <tr>\n",
       "      <th></th>\n",
       "      <th></th>\n",
       "      <th>drafted</th>\n",
       "    </tr>\n",
       "    <tr>\n",
       "      <th></th>\n",
       "      <th>player_id</th>\n",
       "      <th>0</th>\n",
       "    </tr>\n",
       "  </thead>\n",
       "  <tbody>\n",
       "    <tr>\n",
       "      <th>0</th>\n",
       "      <td>cf302b4d-84f7-4124-a25d-a75eed31978b</td>\n",
       "      <td>0.009056</td>\n",
       "    </tr>\n",
       "    <tr>\n",
       "      <th>1</th>\n",
       "      <td>f91837cd-4f49-4b70-963d-aeb82c6ce3da</td>\n",
       "      <td>0.003603</td>\n",
       "    </tr>\n",
       "    <tr>\n",
       "      <th>2</th>\n",
       "      <td>53ec2a29-1e7d-4c6d-86d7-d60d02af8916</td>\n",
       "      <td>0.000968</td>\n",
       "    </tr>\n",
       "    <tr>\n",
       "      <th>3</th>\n",
       "      <td>32402798-471c-4a54-8cb4-29cd95199014</td>\n",
       "      <td>0.019276</td>\n",
       "    </tr>\n",
       "    <tr>\n",
       "      <th>4</th>\n",
       "      <td>73b960f9-27b8-4431-9d23-a760e9bbc360</td>\n",
       "      <td>0.005360</td>\n",
       "    </tr>\n",
       "    <tr>\n",
       "      <th>...</th>\n",
       "      <td>...</td>\n",
       "      <td>...</td>\n",
       "    </tr>\n",
       "    <tr>\n",
       "      <th>11214</th>\n",
       "      <td>NaN</td>\n",
       "      <td>0.005194</td>\n",
       "    </tr>\n",
       "    <tr>\n",
       "      <th>11215</th>\n",
       "      <td>NaN</td>\n",
       "      <td>0.006786</td>\n",
       "    </tr>\n",
       "    <tr>\n",
       "      <th>11216</th>\n",
       "      <td>NaN</td>\n",
       "      <td>0.019185</td>\n",
       "    </tr>\n",
       "    <tr>\n",
       "      <th>11217</th>\n",
       "      <td>NaN</td>\n",
       "      <td>0.007386</td>\n",
       "    </tr>\n",
       "    <tr>\n",
       "      <th>11218</th>\n",
       "      <td>NaN</td>\n",
       "      <td>0.010877</td>\n",
       "    </tr>\n",
       "  </tbody>\n",
       "</table>\n",
       "<p>11219 rows × 2 columns</p>\n",
       "</div>"
      ],
      "text/plain": [
       "                                              drafted\n",
       "                                  player_id         0\n",
       "0      cf302b4d-84f7-4124-a25d-a75eed31978b  0.009056\n",
       "1      f91837cd-4f49-4b70-963d-aeb82c6ce3da  0.003603\n",
       "2      53ec2a29-1e7d-4c6d-86d7-d60d02af8916  0.000968\n",
       "3      32402798-471c-4a54-8cb4-29cd95199014  0.019276\n",
       "4      73b960f9-27b8-4431-9d23-a760e9bbc360  0.005360\n",
       "...                                     ...       ...\n",
       "11214                                   NaN  0.005194\n",
       "11215                                   NaN  0.006786\n",
       "11216                                   NaN  0.019185\n",
       "11217                                   NaN  0.007386\n",
       "11218                                   NaN  0.010877\n",
       "\n",
       "[11219 rows x 2 columns]"
      ]
     },
     "execution_count": 248,
     "metadata": {},
     "output_type": "execute_result"
    }
   ],
   "source": [
    "df_scores = pd.concat({'': player_id, 'drafted': pd.Series(y_score_val)}, axis = 1)\n",
    "df_scores"
   ]
  },
  {
   "cell_type": "code",
   "execution_count": 249,
   "id": "b290687e-5203-4081-a41d-6618294ba487",
   "metadata": {
    "tags": []
   },
   "outputs": [
    {
     "data": {
      "text/html": [
       "<div>\n",
       "<style scoped>\n",
       "    .dataframe tbody tr th:only-of-type {\n",
       "        vertical-align: middle;\n",
       "    }\n",
       "\n",
       "    .dataframe tbody tr th {\n",
       "        vertical-align: top;\n",
       "    }\n",
       "\n",
       "    .dataframe thead tr th {\n",
       "        text-align: left;\n",
       "    }\n",
       "</style>\n",
       "<table border=\"1\" class=\"dataframe\">\n",
       "  <thead>\n",
       "    <tr>\n",
       "      <th></th>\n",
       "      <th></th>\n",
       "      <th>drafted</th>\n",
       "    </tr>\n",
       "    <tr>\n",
       "      <th></th>\n",
       "      <th>player_id</th>\n",
       "      <th>0</th>\n",
       "    </tr>\n",
       "  </thead>\n",
       "  <tbody>\n",
       "    <tr>\n",
       "      <th>0</th>\n",
       "      <td>cf302b4d-84f7-4124-a25d-a75eed31978b</td>\n",
       "      <td>0.010192</td>\n",
       "    </tr>\n",
       "    <tr>\n",
       "      <th>1</th>\n",
       "      <td>f91837cd-4f49-4b70-963d-aeb82c6ce3da</td>\n",
       "      <td>0.004931</td>\n",
       "    </tr>\n",
       "    <tr>\n",
       "      <th>2</th>\n",
       "      <td>53ec2a29-1e7d-4c6d-86d7-d60d02af8916</td>\n",
       "      <td>0.007998</td>\n",
       "    </tr>\n",
       "    <tr>\n",
       "      <th>3</th>\n",
       "      <td>32402798-471c-4a54-8cb4-29cd95199014</td>\n",
       "      <td>0.014753</td>\n",
       "    </tr>\n",
       "    <tr>\n",
       "      <th>4</th>\n",
       "      <td>73b960f9-27b8-4431-9d23-a760e9bbc360</td>\n",
       "      <td>0.003824</td>\n",
       "    </tr>\n",
       "    <tr>\n",
       "      <th>...</th>\n",
       "      <td>...</td>\n",
       "      <td>...</td>\n",
       "    </tr>\n",
       "    <tr>\n",
       "      <th>4965</th>\n",
       "      <td>a25ee55f-02a3-4f8e-8194-a5f427e14e7c</td>\n",
       "      <td>0.018341</td>\n",
       "    </tr>\n",
       "    <tr>\n",
       "      <th>4966</th>\n",
       "      <td>d0d9f45e-7b01-44b3-8d40-514ec338611d</td>\n",
       "      <td>0.009436</td>\n",
       "    </tr>\n",
       "    <tr>\n",
       "      <th>4967</th>\n",
       "      <td>f8df22c4-1602-4fab-896d-8820951aae2f</td>\n",
       "      <td>0.006898</td>\n",
       "    </tr>\n",
       "    <tr>\n",
       "      <th>4968</th>\n",
       "      <td>b791c69a-f769-4163-afda-051a6fd20a9d</td>\n",
       "      <td>0.006924</td>\n",
       "    </tr>\n",
       "    <tr>\n",
       "      <th>4969</th>\n",
       "      <td>18b51f5d-4746-4121-88fd-c8d0a1399130</td>\n",
       "      <td>0.008882</td>\n",
       "    </tr>\n",
       "  </tbody>\n",
       "</table>\n",
       "<p>4970 rows × 2 columns</p>\n",
       "</div>"
      ],
      "text/plain": [
       "                                             drafted\n",
       "                                 player_id         0\n",
       "0     cf302b4d-84f7-4124-a25d-a75eed31978b  0.010192\n",
       "1     f91837cd-4f49-4b70-963d-aeb82c6ce3da  0.004931\n",
       "2     53ec2a29-1e7d-4c6d-86d7-d60d02af8916  0.007998\n",
       "3     32402798-471c-4a54-8cb4-29cd95199014  0.014753\n",
       "4     73b960f9-27b8-4431-9d23-a760e9bbc360  0.003824\n",
       "...                                    ...       ...\n",
       "4965  a25ee55f-02a3-4f8e-8194-a5f427e14e7c  0.018341\n",
       "4966  d0d9f45e-7b01-44b3-8d40-514ec338611d  0.009436\n",
       "4967  f8df22c4-1602-4fab-896d-8820951aae2f  0.006898\n",
       "4968  b791c69a-f769-4163-afda-051a6fd20a9d  0.006924\n",
       "4969  18b51f5d-4746-4121-88fd-c8d0a1399130  0.008882\n",
       "\n",
       "[4970 rows x 2 columns]"
      ]
     },
     "execution_count": 249,
     "metadata": {},
     "output_type": "execute_result"
    }
   ],
   "source": [
    "df_scores = pd.concat({'': player_id, 'drafted': pd.Series(y_score_test)}, axis = 1)\n",
    "df_scores"
   ]
  },
  {
   "cell_type": "markdown",
   "id": "0039ab78-5bda-47a6-a730-d225ea4978a5",
   "metadata": {},
   "source": [
    "#### 6.1.1 Viewing ROC Results"
   ]
  },
  {
   "cell_type": "code",
   "execution_count": 250,
   "id": "ba255981-e21d-4d6b-98dc-a45c1d3babeb",
   "metadata": {
    "tags": []
   },
   "outputs": [
    {
     "name": "stdout",
     "output_type": "stream",
     "text": [
      "Requirement already satisfied: matplotlib in c:\\users\\asus\\appdata\\local\\pypoetry\\cache\\virtualenvs\\mla-at1-zqofbsrg-py3.9\\lib\\site-packages (3.8.0)\n",
      "Requirement already satisfied: packaging>=20.0 in c:\\users\\asus\\appdata\\local\\pypoetry\\cache\\virtualenvs\\mla-at1-zqofbsrg-py3.9\\lib\\site-packages (from matplotlib) (23.1)\n",
      "Requirement already satisfied: pillow>=6.2.0 in c:\\users\\asus\\appdata\\local\\pypoetry\\cache\\virtualenvs\\mla-at1-zqofbsrg-py3.9\\lib\\site-packages (from matplotlib) (10.0.1)\n",
      "Requirement already satisfied: importlib-resources>=3.2.0 in c:\\users\\asus\\appdata\\local\\pypoetry\\cache\\virtualenvs\\mla-at1-zqofbsrg-py3.9\\lib\\site-packages (from matplotlib) (6.1.0)\n",
      "Requirement already satisfied: contourpy>=1.0.1 in c:\\users\\asus\\appdata\\local\\pypoetry\\cache\\virtualenvs\\mla-at1-zqofbsrg-py3.9\\lib\\site-packages (from matplotlib) (1.1.1)\n",
      "Requirement already satisfied: pyparsing>=2.3.1 in c:\\users\\asus\\appdata\\local\\pypoetry\\cache\\virtualenvs\\mla-at1-zqofbsrg-py3.9\\lib\\site-packages (from matplotlib) (3.1.1)\n",
      "Requirement already satisfied: numpy<2,>=1.21 in c:\\users\\asus\\appdata\\local\\pypoetry\\cache\\virtualenvs\\mla-at1-zqofbsrg-py3.9\\lib\\site-packages (from matplotlib) (1.25.2)\n",
      "Requirement already satisfied: cycler>=0.10 in c:\\users\\asus\\appdata\\local\\pypoetry\\cache\\virtualenvs\\mla-at1-zqofbsrg-py3.9\\lib\\site-packages (from matplotlib) (0.12.0)\n",
      "Requirement already satisfied: fonttools>=4.22.0 in c:\\users\\asus\\appdata\\local\\pypoetry\\cache\\virtualenvs\\mla-at1-zqofbsrg-py3.9\\lib\\site-packages (from matplotlib) (4.43.0)\n",
      "Requirement already satisfied: kiwisolver>=1.0.1 in c:\\users\\asus\\appdata\\local\\pypoetry\\cache\\virtualenvs\\mla-at1-zqofbsrg-py3.9\\lib\\site-packages (from matplotlib) (1.4.5)\n",
      "Requirement already satisfied: python-dateutil>=2.7 in c:\\users\\asus\\appdata\\local\\pypoetry\\cache\\virtualenvs\\mla-at1-zqofbsrg-py3.9\\lib\\site-packages (from matplotlib) (2.8.2)\n",
      "Requirement already satisfied: zipp>=3.1.0 in c:\\users\\asus\\appdata\\local\\pypoetry\\cache\\virtualenvs\\mla-at1-zqofbsrg-py3.9\\lib\\site-packages (from importlib-resources>=3.2.0->matplotlib) (3.17.0)\n",
      "Requirement already satisfied: six>=1.5 in c:\\users\\asus\\appdata\\local\\pypoetry\\cache\\virtualenvs\\mla-at1-zqofbsrg-py3.9\\lib\\site-packages (from python-dateutil>=2.7->matplotlib) (1.16.0)\n"
     ]
    }
   ],
   "source": [
    "!pip install matplotlib"
   ]
  },
  {
   "cell_type": "code",
   "execution_count": 251,
   "id": "de604e82-00b6-43dc-b4b1-f333b9608dd6",
   "metadata": {
    "tags": []
   },
   "outputs": [],
   "source": [
    "from sklearn import metrics\n",
    "import matplotlib.pyplot as plt"
   ]
  },
  {
   "cell_type": "code",
   "execution_count": 252,
   "id": "aac40466-959e-4a43-aac4-87219d072310",
   "metadata": {
    "tags": []
   },
   "outputs": [],
   "source": [
    "y_score_train = predict_probability(X_train, clf)"
   ]
  },
  {
   "cell_type": "code",
   "execution_count": 253,
   "id": "1ef6c3ca-f9f1-4e2f-b9cb-e0a89407e30a",
   "metadata": {
    "tags": []
   },
   "outputs": [],
   "source": [
    "fpr, tpr, _ = metrics.roc_curve(y_train,  y_score_train)"
   ]
  },
  {
   "cell_type": "code",
   "execution_count": 254,
   "id": "3c8b9117-2dab-448d-aa27-106accb721c3",
   "metadata": {
    "tags": []
   },
   "outputs": [
    {
     "data": {
      "image/png": "[encoded data removed]",
      "text/plain": [
       "<Figure size 640x480 with 1 Axes>"
      ]
     },
     "metadata": {},
     "output_type": "display_data"
    }
   ],
   "source": [
    "plt.plot(fpr,tpr)\n",
    "plt.ylabel('True Positive Rate')\n",
    "plt.xlabel('False Positive Rate')\n",
    "plt.title('Data: Train, Model: SVC Default Params')\n",
    "\n",
    "plt.savefig('../reports/figures/Train_SVC_Weight_default.png')"
   ]
  },
  {
   "cell_type": "code",
   "execution_count": 255,
   "id": "805a31db-a4a9-4450-aca2-aa032809410d",
   "metadata": {
    "tags": []
   },
   "outputs": [],
   "source": [
    "y_score_val = predict_probability(X_val, clf)"
   ]
  },
  {
   "cell_type": "code",
   "execution_count": 256,
   "id": "4ac0c6bd-ce12-420d-be0f-e70c42b26f7e",
   "metadata": {
    "tags": []
   },
   "outputs": [],
   "source": [
    "fpr, tpr, _ = metrics.roc_curve(y_val,  y_score_val)"
   ]
  },
  {
   "cell_type": "code",
   "execution_count": 257,
   "id": "224d2656-7769-4c2a-ad0e-ffc7b7f15eb2",
   "metadata": {
    "tags": []
   },
   "outputs": [
    {
     "data": {
      "image/png": "[encoded data removed]",
      "text/plain": [
       "<Figure size 640x480 with 1 Axes>"
      ]
     },
     "metadata": {},
     "output_type": "display_data"
    }
   ],
   "source": [
    "plt.plot(fpr,tpr)\n",
    "plt.ylabel('True Positive Rate')\n",
    "plt.xlabel('False Positive Rate')\n",
    "plt.title('Data: Validation, Model: SVC Default Params')\n",
    "\n",
    "plt.savefig('../reports/figures/Validation_SVC_Default.png')"
   ]
  },
  {
   "cell_type": "markdown",
   "id": "c29a844e-8554-4f7d-8e41-47820dddc9e6",
   "metadata": {
    "tags": []
   },
   "source": [
    "#### 6.2. With class_weight='balanced'"
   ]
  },
  {
   "cell_type": "code",
   "execution_count": 258,
   "id": "139fec5d-55ab-403a-a23e-e765f9c80dea",
   "metadata": {
    "tags": []
   },
   "outputs": [],
   "source": [
    "svc_2 = SVC(probability=True, class_weight='balanced')"
   ]
  },
  {
   "cell_type": "code",
   "execution_count": 259,
   "id": "ca788cb3-1363-4597-add8-8a5d7f46127d",
   "metadata": {
    "tags": []
   },
   "outputs": [],
   "source": [
    "clf = svc_2.fit(X_train, y_train)"
   ]
  },
  {
   "cell_type": "code",
   "execution_count": 260,
   "id": "5d911efc-4bd0-418f-9008-cfad9bb6af25",
   "metadata": {
    "tags": []
   },
   "outputs": [],
   "source": [
    "y_train_preds = svc_2.predict(X_train)\n",
    "y_val_preds = svc_2.predict(X_val)"
   ]
  },
  {
   "cell_type": "code",
   "execution_count": 261,
   "id": "79bafe7a-6280-422f-bcd1-4742f52caff2",
   "metadata": {
    "tags": []
   },
   "outputs": [
    {
     "name": "stdout",
     "output_type": "stream",
     "text": [
      "roc_auc_score for Training data: 0.9947329119583902\n"
     ]
    }
   ],
   "source": [
    "print_regressor_scores_at1(X = X_train, y_actuals=y_train, model = svc_2, set_name='Training')"
   ]
  },
  {
   "cell_type": "code",
   "execution_count": 262,
   "id": "35e53d45-c82b-48fb-ac0d-7535915aed9e",
   "metadata": {
    "tags": []
   },
   "outputs": [
    {
     "name": "stdout",
     "output_type": "stream",
     "text": [
      "roc_auc_score for Validation data: 0.8466233503905197\n"
     ]
    }
   ],
   "source": [
    "print_regressor_scores_at1(X = X_val, y_actuals=y_val, model = svc_2, set_name='Validation')"
   ]
  },
  {
   "cell_type": "code",
   "execution_count": 263,
   "id": "ce463311-6323-42cc-9781-6e22b1b9a0fc",
   "metadata": {
    "tags": []
   },
   "outputs": [],
   "source": [
    "y_score_val = predict_probability(X_val, clf)"
   ]
  },
  {
   "cell_type": "code",
   "execution_count": 264,
   "id": "46877a39-0167-4508-b82e-5bbf53e74525",
   "metadata": {
    "tags": []
   },
   "outputs": [
    {
     "data": {
      "text/plain": [
       "array([0.00091827, 0.00058592, 0.00020999, ..., 0.0034199 , 0.00021498,\n",
       "       0.00034755])"
      ]
     },
     "execution_count": 264,
     "metadata": {},
     "output_type": "execute_result"
    }
   ],
   "source": [
    "y_score_val"
   ]
  },
  {
   "cell_type": "code",
   "execution_count": 265,
   "id": "4e3e2144-7d65-4fc3-b524-4142ac6d4d7c",
   "metadata": {
    "tags": []
   },
   "outputs": [],
   "source": [
    "player_id = pd.read_csv(\"../data/processed/player_id.csv\")\n",
    "player_id = player_id.drop(player_id.columns[0], axis=1)"
   ]
  },
  {
   "cell_type": "code",
   "execution_count": 266,
   "id": "d722ef4f-4701-42b5-ae7d-dc789c42e37f",
   "metadata": {
    "tags": []
   },
   "outputs": [],
   "source": [
    "y_score_test = predict_probability(X_test, clf)"
   ]
  },
  {
   "cell_type": "code",
   "execution_count": 267,
   "id": "d4067ece-a2c8-4228-acba-85570f9fd7ab",
   "metadata": {
    "tags": []
   },
   "outputs": [
    {
     "data": {
      "text/plain": [
       "array([0.00180548, 0.00017264, 0.00026479, ..., 0.0004364 , 0.00042236,\n",
       "       0.0037367 ])"
      ]
     },
     "execution_count": 267,
     "metadata": {},
     "output_type": "execute_result"
    }
   ],
   "source": [
    "y_score_test"
   ]
  },
  {
   "cell_type": "code",
   "execution_count": 268,
   "id": "13dfb2e4-0954-441c-90c4-8918b2cbf238",
   "metadata": {
    "tags": []
   },
   "outputs": [
    {
     "data": {
      "text/html": [
       "<div>\n",
       "<style scoped>\n",
       "    .dataframe tbody tr th:only-of-type {\n",
       "        vertical-align: middle;\n",
       "    }\n",
       "\n",
       "    .dataframe tbody tr th {\n",
       "        vertical-align: top;\n",
       "    }\n",
       "\n",
       "    .dataframe thead tr th {\n",
       "        text-align: left;\n",
       "    }\n",
       "</style>\n",
       "<table border=\"1\" class=\"dataframe\">\n",
       "  <thead>\n",
       "    <tr>\n",
       "      <th></th>\n",
       "      <th></th>\n",
       "      <th>drafted</th>\n",
       "    </tr>\n",
       "    <tr>\n",
       "      <th></th>\n",
       "      <th>player_id</th>\n",
       "      <th>0</th>\n",
       "    </tr>\n",
       "  </thead>\n",
       "  <tbody>\n",
       "    <tr>\n",
       "      <th>0</th>\n",
       "      <td>cf302b4d-84f7-4124-a25d-a75eed31978b</td>\n",
       "      <td>0.000918</td>\n",
       "    </tr>\n",
       "    <tr>\n",
       "      <th>1</th>\n",
       "      <td>f91837cd-4f49-4b70-963d-aeb82c6ce3da</td>\n",
       "      <td>0.000586</td>\n",
       "    </tr>\n",
       "    <tr>\n",
       "      <th>2</th>\n",
       "      <td>53ec2a29-1e7d-4c6d-86d7-d60d02af8916</td>\n",
       "      <td>0.000210</td>\n",
       "    </tr>\n",
       "    <tr>\n",
       "      <th>3</th>\n",
       "      <td>32402798-471c-4a54-8cb4-29cd95199014</td>\n",
       "      <td>0.004040</td>\n",
       "    </tr>\n",
       "    <tr>\n",
       "      <th>4</th>\n",
       "      <td>73b960f9-27b8-4431-9d23-a760e9bbc360</td>\n",
       "      <td>0.000146</td>\n",
       "    </tr>\n",
       "    <tr>\n",
       "      <th>...</th>\n",
       "      <td>...</td>\n",
       "      <td>...</td>\n",
       "    </tr>\n",
       "    <tr>\n",
       "      <th>11214</th>\n",
       "      <td>NaN</td>\n",
       "      <td>0.005140</td>\n",
       "    </tr>\n",
       "    <tr>\n",
       "      <th>11215</th>\n",
       "      <td>NaN</td>\n",
       "      <td>0.000088</td>\n",
       "    </tr>\n",
       "    <tr>\n",
       "      <th>11216</th>\n",
       "      <td>NaN</td>\n",
       "      <td>0.003420</td>\n",
       "    </tr>\n",
       "    <tr>\n",
       "      <th>11217</th>\n",
       "      <td>NaN</td>\n",
       "      <td>0.000215</td>\n",
       "    </tr>\n",
       "    <tr>\n",
       "      <th>11218</th>\n",
       "      <td>NaN</td>\n",
       "      <td>0.000348</td>\n",
       "    </tr>\n",
       "  </tbody>\n",
       "</table>\n",
       "<p>11219 rows × 2 columns</p>\n",
       "</div>"
      ],
      "text/plain": [
       "                                              drafted\n",
       "                                  player_id         0\n",
       "0      cf302b4d-84f7-4124-a25d-a75eed31978b  0.000918\n",
       "1      f91837cd-4f49-4b70-963d-aeb82c6ce3da  0.000586\n",
       "2      53ec2a29-1e7d-4c6d-86d7-d60d02af8916  0.000210\n",
       "3      32402798-471c-4a54-8cb4-29cd95199014  0.004040\n",
       "4      73b960f9-27b8-4431-9d23-a760e9bbc360  0.000146\n",
       "...                                     ...       ...\n",
       "11214                                   NaN  0.005140\n",
       "11215                                   NaN  0.000088\n",
       "11216                                   NaN  0.003420\n",
       "11217                                   NaN  0.000215\n",
       "11218                                   NaN  0.000348\n",
       "\n",
       "[11219 rows x 2 columns]"
      ]
     },
     "execution_count": 268,
     "metadata": {},
     "output_type": "execute_result"
    }
   ],
   "source": [
    "df_scores = pd.concat({'': player_id, 'drafted': pd.Series(y_score_val)}, axis = 1)\n",
    "df_scores"
   ]
  },
  {
   "cell_type": "code",
   "execution_count": 269,
   "id": "ec23c012-03c8-4d15-93d2-f0139cfb8cbd",
   "metadata": {
    "tags": []
   },
   "outputs": [
    {
     "data": {
      "text/html": [
       "<div>\n",
       "<style scoped>\n",
       "    .dataframe tbody tr th:only-of-type {\n",
       "        vertical-align: middle;\n",
       "    }\n",
       "\n",
       "    .dataframe tbody tr th {\n",
       "        vertical-align: top;\n",
       "    }\n",
       "\n",
       "    .dataframe thead tr th {\n",
       "        text-align: left;\n",
       "    }\n",
       "</style>\n",
       "<table border=\"1\" class=\"dataframe\">\n",
       "  <thead>\n",
       "    <tr>\n",
       "      <th></th>\n",
       "      <th></th>\n",
       "      <th>drafted</th>\n",
       "    </tr>\n",
       "    <tr>\n",
       "      <th></th>\n",
       "      <th>player_id</th>\n",
       "      <th>0</th>\n",
       "    </tr>\n",
       "  </thead>\n",
       "  <tbody>\n",
       "    <tr>\n",
       "      <th>0</th>\n",
       "      <td>cf302b4d-84f7-4124-a25d-a75eed31978b</td>\n",
       "      <td>0.001805</td>\n",
       "    </tr>\n",
       "    <tr>\n",
       "      <th>1</th>\n",
       "      <td>f91837cd-4f49-4b70-963d-aeb82c6ce3da</td>\n",
       "      <td>0.000173</td>\n",
       "    </tr>\n",
       "    <tr>\n",
       "      <th>2</th>\n",
       "      <td>53ec2a29-1e7d-4c6d-86d7-d60d02af8916</td>\n",
       "      <td>0.000265</td>\n",
       "    </tr>\n",
       "    <tr>\n",
       "      <th>3</th>\n",
       "      <td>32402798-471c-4a54-8cb4-29cd95199014</td>\n",
       "      <td>0.010199</td>\n",
       "    </tr>\n",
       "    <tr>\n",
       "      <th>4</th>\n",
       "      <td>73b960f9-27b8-4431-9d23-a760e9bbc360</td>\n",
       "      <td>0.000143</td>\n",
       "    </tr>\n",
       "    <tr>\n",
       "      <th>...</th>\n",
       "      <td>...</td>\n",
       "      <td>...</td>\n",
       "    </tr>\n",
       "    <tr>\n",
       "      <th>4965</th>\n",
       "      <td>a25ee55f-02a3-4f8e-8194-a5f427e14e7c</td>\n",
       "      <td>0.005312</td>\n",
       "    </tr>\n",
       "    <tr>\n",
       "      <th>4966</th>\n",
       "      <td>d0d9f45e-7b01-44b3-8d40-514ec338611d</td>\n",
       "      <td>0.001047</td>\n",
       "    </tr>\n",
       "    <tr>\n",
       "      <th>4967</th>\n",
       "      <td>f8df22c4-1602-4fab-896d-8820951aae2f</td>\n",
       "      <td>0.000436</td>\n",
       "    </tr>\n",
       "    <tr>\n",
       "      <th>4968</th>\n",
       "      <td>b791c69a-f769-4163-afda-051a6fd20a9d</td>\n",
       "      <td>0.000422</td>\n",
       "    </tr>\n",
       "    <tr>\n",
       "      <th>4969</th>\n",
       "      <td>18b51f5d-4746-4121-88fd-c8d0a1399130</td>\n",
       "      <td>0.003737</td>\n",
       "    </tr>\n",
       "  </tbody>\n",
       "</table>\n",
       "<p>4970 rows × 2 columns</p>\n",
       "</div>"
      ],
      "text/plain": [
       "                                             drafted\n",
       "                                 player_id         0\n",
       "0     cf302b4d-84f7-4124-a25d-a75eed31978b  0.001805\n",
       "1     f91837cd-4f49-4b70-963d-aeb82c6ce3da  0.000173\n",
       "2     53ec2a29-1e7d-4c6d-86d7-d60d02af8916  0.000265\n",
       "3     32402798-471c-4a54-8cb4-29cd95199014  0.010199\n",
       "4     73b960f9-27b8-4431-9d23-a760e9bbc360  0.000143\n",
       "...                                    ...       ...\n",
       "4965  a25ee55f-02a3-4f8e-8194-a5f427e14e7c  0.005312\n",
       "4966  d0d9f45e-7b01-44b3-8d40-514ec338611d  0.001047\n",
       "4967  f8df22c4-1602-4fab-896d-8820951aae2f  0.000436\n",
       "4968  b791c69a-f769-4163-afda-051a6fd20a9d  0.000422\n",
       "4969  18b51f5d-4746-4121-88fd-c8d0a1399130  0.003737\n",
       "\n",
       "[4970 rows x 2 columns]"
      ]
     },
     "execution_count": 269,
     "metadata": {},
     "output_type": "execute_result"
    }
   ],
   "source": [
    "df_scores = pd.concat({'': player_id, 'drafted': pd.Series(y_score_test)}, axis = 1)\n",
    "df_scores"
   ]
  },
  {
   "cell_type": "markdown",
   "id": "79147ae3-6361-4212-bb98-833960a32262",
   "metadata": {},
   "source": [
    "#### 6.2.1 Viewing ROC Results"
   ]
  },
  {
   "cell_type": "code",
   "execution_count": 270,
   "id": "21071ddd-20da-44a8-81bb-4094e5ee05b6",
   "metadata": {
    "tags": []
   },
   "outputs": [],
   "source": [
    "y_score_train = predict_probability(X_train, clf)"
   ]
  },
  {
   "cell_type": "code",
   "execution_count": 271,
   "id": "920eb380-4e0f-4323-b7a7-d018b55fdb39",
   "metadata": {
    "tags": []
   },
   "outputs": [],
   "source": [
    "fpr, tpr, _ = metrics.roc_curve(y_train,  y_score_train)"
   ]
  },
  {
   "cell_type": "code",
   "execution_count": 272,
   "id": "3abe0aec-bd8e-489d-b344-1bd217750dda",
   "metadata": {
    "tags": []
   },
   "outputs": [
    {
     "data": {
      "image/png": "[encoded data removed]",
      "text/plain": [
       "<Figure size 640x480 with 1 Axes>"
      ]
     },
     "metadata": {},
     "output_type": "display_data"
    }
   ],
   "source": [
    "plt.plot(fpr,tpr)\n",
    "plt.ylabel('True Positive Rate')\n",
    "plt.xlabel('False Positive Rate')\n",
    "plt.title('Data: Train, Model: SVC(weight = \"balanced\")')\n",
    "\n",
    "plt.savefig('../reports/figures/Train_SVC_Weight_balanced.png')"
   ]
  },
  {
   "cell_type": "code",
   "execution_count": 273,
   "id": "4f349eb2-cb32-475d-b026-2f80ed9223aa",
   "metadata": {
    "tags": []
   },
   "outputs": [],
   "source": [
    "y_score_val = predict_probability(X_val, clf)"
   ]
  },
  {
   "cell_type": "code",
   "execution_count": 274,
   "id": "cc1e5faf-8354-41a0-9be6-e319fc6a34e3",
   "metadata": {
    "tags": []
   },
   "outputs": [],
   "source": [
    "fpr, tpr, _ = metrics.roc_curve(y_val,  y_score_val)"
   ]
  },
  {
   "cell_type": "code",
   "execution_count": 275,
   "id": "63b72944-0ca5-4d24-9c5e-e180c66c465a",
   "metadata": {
    "tags": []
   },
   "outputs": [
    {
     "data": {
      "image/png": "[encoded data removed]",
      "text/plain": [
       "<Figure size 640x480 with 1 Axes>"
      ]
     },
     "metadata": {},
     "output_type": "display_data"
    }
   ],
   "source": [
    "plt.plot(fpr,tpr)\n",
    "plt.ylabel('True Positive Rate')\n",
    "plt.xlabel('False Positive Rate')\n",
    "plt.title('Data: Validation, Model: SVC(weight = \"balanced\")')\n",
    "\n",
    "plt.savefig('../reports/figures/Validation_SVC_Weight_balanced.png')"
   ]
  },
  {
   "cell_type": "markdown",
   "id": "12441375-775f-4a7a-8f83-5221fd20c18b",
   "metadata": {},
   "source": [
    "# 7. Saving The Best Model"
   ]
  },
  {
   "cell_type": "code",
   "execution_count": 276,
   "id": "ab39bdd8-3e43-422e-842a-373d4fbab87d",
   "metadata": {
    "tags": []
   },
   "outputs": [
    {
     "data": {
      "text/plain": [
       "['../models/svc_week2.joblib']"
      ]
     },
     "execution_count": 276,
     "metadata": {},
     "output_type": "execute_result"
    }
   ],
   "source": [
    "from joblib import dump\n",
    "\n",
    "dump(svc_2,  '../models/svc_week2.joblib')"
   ]
  },
  {
   "cell_type": "code",
   "execution_count": null,
   "id": "63ab53b3-db28-4c4c-a18e-a23583b29624",
   "metadata": {},
   "outputs": [],
   "source": []
  }
 ],
 "metadata": {
  "kernelspec": {
   "display_name": "Python 3 (ipykernel)",
   "language": "python",
   "name": "python3"
  },
  "language_info": {
   "codemirror_mode": {
    "name": "ipython",
    "version": 3
   },
   "file_extension": ".py",
   "mimetype": "text/x-python",
   "name": "python",
   "nbconvert_exporter": "python",
   "pygments_lexer": "ipython3",
   "version": "3.9.13"
  }
 },
 "nbformat": 4,
 "nbformat_minor": 5
}
